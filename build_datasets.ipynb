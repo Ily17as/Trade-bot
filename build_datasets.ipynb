{
 "cells": [
  {
   "cell_type": "markdown",
   "id": "2e7010d1",
   "metadata": {},
   "source": [
    "# Build Datasets: ML & CV Orchestrator\n",
    "\n",
    "Run from the **project root**. It uses your `scripts/` modules to generate:\n",
    "- ML features and labels parquet datasets\n",
    "- Optional CV image renders for visual QA\n",
    "\n",
    "Edit parameters in the next cell and execute top-to-bottom.\n"
   ]
  },
  {
   "cell_type": "code",
   "id": "57cb828b",
   "metadata": {
    "ExecuteTime": {
     "end_time": "2025-10-17T09:16:40.284579Z",
     "start_time": "2025-10-17T09:16:34.535505Z"
    }
   },
   "source": [
    "# Рабочий каталог = корень проекта\n",
    "import os, sys, pathlib\n",
    "ROOT = pathlib.Path(r\"C:\\Users\\Admin\\Desktop\\Code\\Trade-bot\")  # подправь путь при необходимости\n",
    "os.chdir(ROOT)\n",
    "if str(ROOT) not in sys.path:\n",
    "    sys.path.append(str(ROOT))\n",
    "\n",
    "# Авто-перезагрузка модулей при правках\n",
    "%load_ext autoreload\n",
    "%autoreload 2\n",
    "\n",
    "import platform, pandas as pd\n",
    "print(\"CWD:\", pathlib.Path().resolve())\n",
    "print(\"Python:\", platform.python_version())\n"
   ],
   "outputs": [
    {
     "name": "stdout",
     "output_type": "stream",
     "text": [
      "CWD: C:\\Users\\Admin\\Desktop\\Code\\Trade-bot\n",
      "Python: 3.11.0\n"
     ]
    }
   ],
   "execution_count": 1
  },
  {
   "cell_type": "code",
   "id": "e60e6e63",
   "metadata": {
    "ExecuteTime": {
     "end_time": "2025-10-17T11:15:20.081895Z",
     "start_time": "2025-10-17T11:15:20.009830Z"
    }
   },
   "source": [
    "TICKER     = \"GMKN\" # [\"SBER\", \"GAZP\", \"LKOH\", \"ROSN\", \"GMKN\"]\n",
    "TF         = \"1m\"                  # \"1m\" / \"5m\" / \"1h\" / \"1d\"\n",
    "START      = \"2025-06-02\"\n",
    "END        = \"2025-10-10\"\n",
    "FIGI       = \"BBG00475KKY8\"        # FIGI SBER (пример)\n",
    "YF_SYMBOL  = \"GMKN.ME\"             # запасной символ для yfinance\n",
    "\n",
    "RAW_GLOB   = f\"data/raw/*/{TICKER}/{TF}/year=*/month=*/part.parquet\"\n",
    "FEAT_PATH  = f\"data/features/ml/{TICKER}/{TF}/features.parquet\"\n",
    "FEAT_LBL   = f\"data/features/ml/{TICKER}/{TF}/features_labeled.parquet\"\n"
   ],
   "outputs": [],
   "execution_count": 49
  },
  {
   "cell_type": "code",
   "id": "e5a52825",
   "metadata": {
    "ExecuteTime": {
     "end_time": "2025-10-17T11:15:50.659889Z",
     "start_time": "2025-10-17T11:15:20.474865Z"
    }
   },
   "source": [
    "from scripts import fetch_data as F\n",
    "import pandas as pd\n",
    "\n",
    "# В модуле могло не быть fetch_intraday — добавим тонкую обёртку тут\n",
    "def fetch_intraday(ticker: str, tf: str, start, end, figi: str|None=None, yf_symbol: str|None=None):\n",
    "    if hasattr(F, \"fetch_intraday\"):\n",
    "        return F.fetch_intraday(ticker, tf, start, end, figi, yf_symbol)\n",
    "    # Иначе используем функции из модуля (Tinkoff -> MOEX -> yfinance)\n",
    "    from datetime import datetime\n",
    "    def _dt(x): \n",
    "        return x if isinstance(x, datetime) else datetime.fromisoformat(str(x))\n",
    "    START, END = _dt(start), _dt(end)\n",
    "    try:\n",
    "        if figi:\n",
    "            dft = F.fetch_tinkoff_chunked(figi, tf, START, END)\n",
    "            if not dft.empty:\n",
    "                return dft.sort_values(\"time\").drop_duplicates(\"time\"), \"tinkoff\"\n",
    "    except Exception: \n",
    "        pass\n",
    "    try:\n",
    "        dfm = F.fetch_moex_history(ticker, tf, str(START.date()), str(END.date()))\n",
    "        if not dfm.empty:\n",
    "            return dfm.sort_values(\"time\").drop_duplicates(\"time\"), \"moex\"\n",
    "    except Exception:\n",
    "        pass\n",
    "    sym = yf_symbol or f\"{ticker}.ME\"\n",
    "    dfy = F.fetch_yf(sym, tf, str(START.date()))\n",
    "    if not dfy.empty:\n",
    "        return dfy.sort_values(\"time\").drop_duplicates(\"time\"), \"yfinance\"\n",
    "    return pd.DataFrame(), None\n",
    "\n",
    "df_raw, src = fetch_intraday(TICKER, TF, START, END, figi=FIGI, yf_symbol=YF_SYMBOL)\n",
    "print(\"source:\", src, \"rows:\", len(df_raw), df_raw[\"time\"].min() if len(df_raw) else None, \"→\", df_raw[\"time\"].max() if len(df_raw) else None)\n",
    "df_raw.head()\n"
   ],
   "outputs": [
    {
     "name": "stdout",
     "output_type": "stream",
     "text": [
      "source: tinkoff rows: 123770 2025-06-02 03:59:00+00:00 → 2025-10-09 20:49:00+00:00\n"
     ]
    },
    {
     "data": {
      "text/plain": [
       "                       time    open    high     low   close  volume\n",
       "0 2025-06-02 03:59:00+00:00  1057.0  1057.0  1057.0  1057.0    7342\n",
       "1 2025-06-02 04:00:00+00:00  1057.2  1067.0  1056.0  1061.8   38146\n",
       "2 2025-06-02 04:01:00+00:00  1061.6  1065.6  1059.8  1064.0   13667\n",
       "3 2025-06-02 04:02:00+00:00  1063.8  1067.6  1063.8  1065.6   14318\n",
       "4 2025-06-02 04:03:00+00:00  1065.8  1066.6  1064.2  1065.0    5304"
      ],
      "text/html": [
       "<div>\n",
       "<style scoped>\n",
       "    .dataframe tbody tr th:only-of-type {\n",
       "        vertical-align: middle;\n",
       "    }\n",
       "\n",
       "    .dataframe tbody tr th {\n",
       "        vertical-align: top;\n",
       "    }\n",
       "\n",
       "    .dataframe thead th {\n",
       "        text-align: right;\n",
       "    }\n",
       "</style>\n",
       "<table border=\"1\" class=\"dataframe\">\n",
       "  <thead>\n",
       "    <tr style=\"text-align: right;\">\n",
       "      <th></th>\n",
       "      <th>time</th>\n",
       "      <th>open</th>\n",
       "      <th>high</th>\n",
       "      <th>low</th>\n",
       "      <th>close</th>\n",
       "      <th>volume</th>\n",
       "    </tr>\n",
       "  </thead>\n",
       "  <tbody>\n",
       "    <tr>\n",
       "      <th>0</th>\n",
       "      <td>2025-06-02 03:59:00+00:00</td>\n",
       "      <td>1057.0</td>\n",
       "      <td>1057.0</td>\n",
       "      <td>1057.0</td>\n",
       "      <td>1057.0</td>\n",
       "      <td>7342</td>\n",
       "    </tr>\n",
       "    <tr>\n",
       "      <th>1</th>\n",
       "      <td>2025-06-02 04:00:00+00:00</td>\n",
       "      <td>1057.2</td>\n",
       "      <td>1067.0</td>\n",
       "      <td>1056.0</td>\n",
       "      <td>1061.8</td>\n",
       "      <td>38146</td>\n",
       "    </tr>\n",
       "    <tr>\n",
       "      <th>2</th>\n",
       "      <td>2025-06-02 04:01:00+00:00</td>\n",
       "      <td>1061.6</td>\n",
       "      <td>1065.6</td>\n",
       "      <td>1059.8</td>\n",
       "      <td>1064.0</td>\n",
       "      <td>13667</td>\n",
       "    </tr>\n",
       "    <tr>\n",
       "      <th>3</th>\n",
       "      <td>2025-06-02 04:02:00+00:00</td>\n",
       "      <td>1063.8</td>\n",
       "      <td>1067.6</td>\n",
       "      <td>1063.8</td>\n",
       "      <td>1065.6</td>\n",
       "      <td>14318</td>\n",
       "    </tr>\n",
       "    <tr>\n",
       "      <th>4</th>\n",
       "      <td>2025-06-02 04:03:00+00:00</td>\n",
       "      <td>1065.8</td>\n",
       "      <td>1066.6</td>\n",
       "      <td>1064.2</td>\n",
       "      <td>1065.0</td>\n",
       "      <td>5304</td>\n",
       "    </tr>\n",
       "  </tbody>\n",
       "</table>\n",
       "</div>"
      ]
     },
     "execution_count": 50,
     "metadata": {},
     "output_type": "execute_result"
    }
   ],
   "execution_count": 50
  },
  {
   "cell_type": "code",
   "id": "eea4eb4c",
   "metadata": {
    "ExecuteTime": {
     "end_time": "2025-10-17T11:15:50.916513Z",
     "start_time": "2025-10-17T11:15:50.659985Z"
    }
   },
   "source": [
    "if not df_raw.empty:\n",
    "    F.save_partitioned(df_raw, source=src or \"tinkoff\", ticker=TICKER, tf=TF)\n"
   ],
   "outputs": [],
   "execution_count": 51
  },
  {
   "cell_type": "code",
   "id": "01b0bb71",
   "metadata": {
    "ExecuteTime": {
     "end_time": "2025-10-17T11:15:52.407857Z",
     "start_time": "2025-10-17T11:15:50.916513Z"
    }
   },
   "source": [
    "from scripts.make_intraday_features import build_features\n",
    "import os\n",
    "os.makedirs(os.path.dirname(FEAT_PATH), exist_ok=True)\n",
    "\n",
    "fe = build_features(RAW_GLOB)\n",
    "fe.to_parquet(FEAT_PATH, index=False)\n",
    "len(fe), FEAT_PATH\n"
   ],
   "outputs": [
    {
     "data": {
      "text/plain": [
       "(123770, 'data/features/ml/GMKN/1m/features.parquet')"
      ]
     },
     "execution_count": 52,
     "metadata": {},
     "output_type": "execute_result"
    }
   ],
   "execution_count": 52
  },
  {
   "cell_type": "code",
   "id": "f8100a70",
   "metadata": {
    "ExecuteTime": {
     "end_time": "2025-10-17T11:15:53.445121Z",
     "start_time": "2025-10-17T11:15:52.409419Z"
    }
   },
   "source": [
    "from scripts.make_labels import next_k_return, triple_barrier\n",
    "df = pd.read_parquet(FEAT_PATH).sort_values(\"time\")\n",
    "\n",
    "df = next_k_return(df, k=5)                 # добавит ret_fwd_5\n",
    "df = triple_barrier(df, k=20, up=0.004, dn=0.004)  # добавит y_tb_20\n",
    "\n",
    "df.to_parquet(FEAT_LBL, index=False)\n",
    "len(df), df.columns.tolist()[-6:], FEAT_LBL\n"
   ],
   "outputs": [
    {
     "data": {
      "text/plain": [
       "(123770,\n",
       " ['date', 'bar_id', 'is_open_30', 'is_close_30', 'ret_fwd_5', 'y_tb_20'],\n",
       " 'data/features/ml/GMKN/1m/features_labeled.parquet')"
      ]
     },
     "execution_count": 53,
     "metadata": {},
     "output_type": "execute_result"
    }
   ],
   "execution_count": 53
  },
  {
   "cell_type": "code",
   "id": "b09afee7",
   "metadata": {
    "ExecuteTime": {
     "end_time": "2025-10-17T11:45:52.098938Z",
     "start_time": "2025-10-17T11:15:53.446206Z"
    }
   },
   "source": [
    "from scripts.render_cv_images import render_with_manifest\n",
    "MANIFEST = f\"data/cv/images/{TICKER}/{TF}/win64_step16/manifest_with_vol.csv\"\n",
    "\n",
    "rows = render_with_manifest(\n",
    "    in_parquet = FEAT_LBL,\n",
    "    ticker     = TICKER,\n",
    "    tf         = TF,\n",
    "    size       = 64,\n",
    "    step       = 16,\n",
    "    horizon    = 5,\n",
    "    show_axes  = False,          # True для дебага с осями\n",
    "    show_volume= True,           # рисуем колонны объёма\n",
    "    vol_mode   = \"raw\",          # 'raw' | 'zscore' | 'rel'\n",
    "    fixed_ylim = \"window\",       # автоскейл по окну для цен\n",
    "    manifest_csv = MANIFEST\n",
    ")\n",
    "len(rows), MANIFEST\n"
   ],
   "outputs": [
    {
     "name": "stderr",
     "output_type": "stream",
     "text": [
      "C:\\Users\\Admin\\Desktop\\Code\\Quant\\.venv\\Lib\\site-packages\\mplfinance\\plotting.py:596: UserWarning: Attempting to set identical low and high ylims makes transformation singular; automatically expanding.\n",
      "  axA1.set_ylim(config['ylim'][0], config['ylim'][1])\n",
      "C:\\Users\\Admin\\Desktop\\Code\\Quant\\.venv\\Lib\\site-packages\\mplfinance\\plotting.py:596: UserWarning: Attempting to set identical low and high ylims makes transformation singular; automatically expanding.\n",
      "  axA1.set_ylim(config['ylim'][0], config['ylim'][1])\n",
      "C:\\Users\\Admin\\Desktop\\Code\\Quant\\.venv\\Lib\\site-packages\\mplfinance\\plotting.py:596: UserWarning: Attempting to set identical low and high ylims makes transformation singular; automatically expanding.\n",
      "  axA1.set_ylim(config['ylim'][0], config['ylim'][1])\n",
      "C:\\Users\\Admin\\Desktop\\Code\\Quant\\.venv\\Lib\\site-packages\\mplfinance\\plotting.py:596: UserWarning: Attempting to set identical low and high ylims makes transformation singular; automatically expanding.\n",
      "  axA1.set_ylim(config['ylim'][0], config['ylim'][1])\n",
      "C:\\Users\\Admin\\Desktop\\Code\\Quant\\.venv\\Lib\\site-packages\\mplfinance\\plotting.py:596: UserWarning: Attempting to set identical low and high ylims makes transformation singular; automatically expanding.\n",
      "  axA1.set_ylim(config['ylim'][0], config['ylim'][1])\n",
      "C:\\Users\\Admin\\Desktop\\Code\\Quant\\.venv\\Lib\\site-packages\\mplfinance\\plotting.py:596: UserWarning: Attempting to set identical low and high ylims makes transformation singular; automatically expanding.\n",
      "  axA1.set_ylim(config['ylim'][0], config['ylim'][1])\n",
      "C:\\Users\\Admin\\Desktop\\Code\\Quant\\.venv\\Lib\\site-packages\\mplfinance\\plotting.py:596: UserWarning: Attempting to set identical low and high ylims makes transformation singular; automatically expanding.\n",
      "  axA1.set_ylim(config['ylim'][0], config['ylim'][1])\n",
      "C:\\Users\\Admin\\Desktop\\Code\\Quant\\.venv\\Lib\\site-packages\\mplfinance\\plotting.py:596: UserWarning: Attempting to set identical low and high ylims makes transformation singular; automatically expanding.\n",
      "  axA1.set_ylim(config['ylim'][0], config['ylim'][1])\n",
      "C:\\Users\\Admin\\Desktop\\Code\\Quant\\.venv\\Lib\\site-packages\\mplfinance\\plotting.py:596: UserWarning: Attempting to set identical low and high ylims makes transformation singular; automatically expanding.\n",
      "  axA1.set_ylim(config['ylim'][0], config['ylim'][1])\n",
      "C:\\Users\\Admin\\Desktop\\Code\\Quant\\.venv\\Lib\\site-packages\\mplfinance\\plotting.py:596: UserWarning: Attempting to set identical low and high ylims makes transformation singular; automatically expanding.\n",
      "  axA1.set_ylim(config['ylim'][0], config['ylim'][1])\n",
      "C:\\Users\\Admin\\Desktop\\Code\\Quant\\.venv\\Lib\\site-packages\\mplfinance\\plotting.py:596: UserWarning: Attempting to set identical low and high ylims makes transformation singular; automatically expanding.\n",
      "  axA1.set_ylim(config['ylim'][0], config['ylim'][1])\n",
      "C:\\Users\\Admin\\Desktop\\Code\\Quant\\.venv\\Lib\\site-packages\\mplfinance\\plotting.py:596: UserWarning: Attempting to set identical low and high ylims makes transformation singular; automatically expanding.\n",
      "  axA1.set_ylim(config['ylim'][0], config['ylim'][1])\n",
      "C:\\Users\\Admin\\Desktop\\Code\\Quant\\.venv\\Lib\\site-packages\\mplfinance\\plotting.py:596: UserWarning: Attempting to set identical low and high ylims makes transformation singular; automatically expanding.\n",
      "  axA1.set_ylim(config['ylim'][0], config['ylim'][1])\n",
      "C:\\Users\\Admin\\Desktop\\Code\\Quant\\.venv\\Lib\\site-packages\\mplfinance\\plotting.py:596: UserWarning: Attempting to set identical low and high ylims makes transformation singular; automatically expanding.\n",
      "  axA1.set_ylim(config['ylim'][0], config['ylim'][1])\n",
      "C:\\Users\\Admin\\Desktop\\Code\\Quant\\.venv\\Lib\\site-packages\\mplfinance\\plotting.py:596: UserWarning: Attempting to set identical low and high ylims makes transformation singular; automatically expanding.\n",
      "  axA1.set_ylim(config['ylim'][0], config['ylim'][1])\n",
      "C:\\Users\\Admin\\Desktop\\Code\\Quant\\.venv\\Lib\\site-packages\\mplfinance\\plotting.py:596: UserWarning: Attempting to set identical low and high ylims makes transformation singular; automatically expanding.\n",
      "  axA1.set_ylim(config['ylim'][0], config['ylim'][1])\n",
      "C:\\Users\\Admin\\Desktop\\Code\\Quant\\.venv\\Lib\\site-packages\\mplfinance\\plotting.py:596: UserWarning: Attempting to set identical low and high ylims makes transformation singular; automatically expanding.\n",
      "  axA1.set_ylim(config['ylim'][0], config['ylim'][1])\n",
      "C:\\Users\\Admin\\Desktop\\Code\\Quant\\.venv\\Lib\\site-packages\\mplfinance\\plotting.py:596: UserWarning: Attempting to set identical low and high ylims makes transformation singular; automatically expanding.\n",
      "  axA1.set_ylim(config['ylim'][0], config['ylim'][1])\n",
      "C:\\Users\\Admin\\Desktop\\Code\\Quant\\.venv\\Lib\\site-packages\\mplfinance\\plotting.py:596: UserWarning: Attempting to set identical low and high ylims makes transformation singular; automatically expanding.\n",
      "  axA1.set_ylim(config['ylim'][0], config['ylim'][1])\n",
      "C:\\Users\\Admin\\Desktop\\Code\\Quant\\.venv\\Lib\\site-packages\\mplfinance\\plotting.py:596: UserWarning: Attempting to set identical low and high ylims makes transformation singular; automatically expanding.\n",
      "  axA1.set_ylim(config['ylim'][0], config['ylim'][1])\n",
      "C:\\Users\\Admin\\Desktop\\Code\\Quant\\.venv\\Lib\\site-packages\\mplfinance\\plotting.py:596: UserWarning: Attempting to set identical low and high ylims makes transformation singular; automatically expanding.\n",
      "  axA1.set_ylim(config['ylim'][0], config['ylim'][1])\n",
      "C:\\Users\\Admin\\Desktop\\Code\\Quant\\.venv\\Lib\\site-packages\\mplfinance\\plotting.py:596: UserWarning: Attempting to set identical low and high ylims makes transformation singular; automatically expanding.\n",
      "  axA1.set_ylim(config['ylim'][0], config['ylim'][1])\n",
      "C:\\Users\\Admin\\Desktop\\Code\\Quant\\.venv\\Lib\\site-packages\\mplfinance\\plotting.py:596: UserWarning: Attempting to set identical low and high ylims makes transformation singular; automatically expanding.\n",
      "  axA1.set_ylim(config['ylim'][0], config['ylim'][1])\n",
      "C:\\Users\\Admin\\Desktop\\Code\\Quant\\.venv\\Lib\\site-packages\\mplfinance\\plotting.py:596: UserWarning: Attempting to set identical low and high ylims makes transformation singular; automatically expanding.\n",
      "  axA1.set_ylim(config['ylim'][0], config['ylim'][1])\n",
      "C:\\Users\\Admin\\Desktop\\Code\\Quant\\.venv\\Lib\\site-packages\\mplfinance\\plotting.py:596: UserWarning: Attempting to set identical low and high ylims makes transformation singular; automatically expanding.\n",
      "  axA1.set_ylim(config['ylim'][0], config['ylim'][1])\n",
      "C:\\Users\\Admin\\Desktop\\Code\\Quant\\.venv\\Lib\\site-packages\\mplfinance\\plotting.py:596: UserWarning: Attempting to set identical low and high ylims makes transformation singular; automatically expanding.\n",
      "  axA1.set_ylim(config['ylim'][0], config['ylim'][1])\n",
      "C:\\Users\\Admin\\Desktop\\Code\\Quant\\.venv\\Lib\\site-packages\\mplfinance\\plotting.py:596: UserWarning: Attempting to set identical low and high ylims makes transformation singular; automatically expanding.\n",
      "  axA1.set_ylim(config['ylim'][0], config['ylim'][1])\n",
      "C:\\Users\\Admin\\Desktop\\Code\\Quant\\.venv\\Lib\\site-packages\\mplfinance\\plotting.py:596: UserWarning: Attempting to set identical low and high ylims makes transformation singular; automatically expanding.\n",
      "  axA1.set_ylim(config['ylim'][0], config['ylim'][1])\n",
      "C:\\Users\\Admin\\Desktop\\Code\\Quant\\.venv\\Lib\\site-packages\\mplfinance\\plotting.py:596: UserWarning: Attempting to set identical low and high ylims makes transformation singular; automatically expanding.\n",
      "  axA1.set_ylim(config['ylim'][0], config['ylim'][1])\n",
      "C:\\Users\\Admin\\Desktop\\Code\\Quant\\.venv\\Lib\\site-packages\\mplfinance\\plotting.py:596: UserWarning: Attempting to set identical low and high ylims makes transformation singular; automatically expanding.\n",
      "  axA1.set_ylim(config['ylim'][0], config['ylim'][1])\n",
      "C:\\Users\\Admin\\Desktop\\Code\\Quant\\.venv\\Lib\\site-packages\\mplfinance\\plotting.py:596: UserWarning: Attempting to set identical low and high ylims makes transformation singular; automatically expanding.\n",
      "  axA1.set_ylim(config['ylim'][0], config['ylim'][1])\n"
     ]
    },
    {
     "data": {
      "text/plain": [
       "(7732, 'data/cv/images/GMKN/1m/win64_step16/manifest_with_vol.csv')"
      ]
     },
     "execution_count": 54,
     "metadata": {},
     "output_type": "execute_result"
    }
   ],
   "execution_count": 54
  },
  {
   "cell_type": "code",
   "id": "d9c4f863",
   "metadata": {
    "ExecuteTime": {
     "end_time": "2025-10-17T11:45:53.488538Z",
     "start_time": "2025-10-17T11:45:52.121935Z"
    }
   },
   "source": [
    "from scripts.qc_report import qc_summary\n",
    "qc = qc_summary(RAW_GLOB)\n",
    "qc\n"
   ],
   "outputs": [
    {
     "data": {
      "text/plain": [
       "     rows  zero_price  bad_hl  zero_vol          max_gap\n",
       "0  123770           0       0         0  0 days 07:11:00"
      ],
      "text/html": [
       "<div>\n",
       "<style scoped>\n",
       "    .dataframe tbody tr th:only-of-type {\n",
       "        vertical-align: middle;\n",
       "    }\n",
       "\n",
       "    .dataframe tbody tr th {\n",
       "        vertical-align: top;\n",
       "    }\n",
       "\n",
       "    .dataframe thead th {\n",
       "        text-align: right;\n",
       "    }\n",
       "</style>\n",
       "<table border=\"1\" class=\"dataframe\">\n",
       "  <thead>\n",
       "    <tr style=\"text-align: right;\">\n",
       "      <th></th>\n",
       "      <th>rows</th>\n",
       "      <th>zero_price</th>\n",
       "      <th>bad_hl</th>\n",
       "      <th>zero_vol</th>\n",
       "      <th>max_gap</th>\n",
       "    </tr>\n",
       "  </thead>\n",
       "  <tbody>\n",
       "    <tr>\n",
       "      <th>0</th>\n",
       "      <td>123770</td>\n",
       "      <td>0</td>\n",
       "      <td>0</td>\n",
       "      <td>0</td>\n",
       "      <td>0 days 07:11:00</td>\n",
       "    </tr>\n",
       "  </tbody>\n",
       "</table>\n",
       "</div>"
      ]
     },
     "execution_count": 55,
     "metadata": {},
     "output_type": "execute_result"
    }
   ],
   "execution_count": 55
  },
  {
   "cell_type": "code",
   "id": "bf59d9da",
   "metadata": {
    "ExecuteTime": {
     "end_time": "2025-10-17T11:45:54.440461Z",
     "start_time": "2025-10-17T11:45:53.490535Z"
    }
   },
   "source": [
    "import glob\n",
    "files = glob.glob(f\"data/features/ml/{TICKER}/{TF}/*.parquet\")\n",
    "mart = (pd.concat((pd.read_parquet(p) for p in files), ignore_index=True)\n",
    "          .drop_duplicates(\"time\").sort_values(\"time\"))\n",
    "os.makedirs(\"warehouse\", exist_ok=True)\n",
    "MART_FILE = f\"warehouse/{TICKER.lower()}_{TF}.parquet\"\n",
    "mart.to_parquet(MART_FILE, index=False)\n",
    "len(mart), MART_FILE\n"
   ],
   "outputs": [
    {
     "data": {
      "text/plain": [
       "(123770, 'warehouse/gmkn_1m.parquet')"
      ]
     },
     "execution_count": 56,
     "metadata": {},
     "output_type": "execute_result"
    }
   ],
   "execution_count": 56
  },
  {
   "cell_type": "code",
   "id": "f2698a8f",
   "metadata": {
    "ExecuteTime": {
     "end_time": "2025-10-17T11:45:54.613686Z",
     "start_time": "2025-10-17T11:45:54.443233Z"
    }
   },
   "source": "pd.read_parquet(FEAT_LBL).tail()\n",
   "outputs": [
    {
     "data": {
      "text/plain": [
       "                            time    open    high     low   close  volume  \\\n",
       "123765 2025-10-09 20:45:00+00:00  1056.2  1056.4  1056.2  1056.4     954   \n",
       "123766 2025-10-09 20:46:00+00:00  1056.6  1056.6  1056.4  1056.6      29   \n",
       "123767 2025-10-09 20:47:00+00:00  1056.6  1056.8  1056.6  1056.8     810   \n",
       "123768 2025-10-09 20:48:00+00:00  1056.8  1056.8  1055.8  1056.0     548   \n",
       "123769 2025-10-09 20:49:00+00:00  1056.4  1057.8  1056.0  1056.6    2265   \n",
       "\n",
       "           ret_1     ret_5     rng_1    vol_20      vwap_20  dist_vwap  \\\n",
       "123765 -0.000568 -0.000189  0.000189  0.000405  1056.885552  -0.000460   \n",
       "123766  0.000189  0.000189  0.000189  0.000397  1056.881324  -0.000266   \n",
       "123767  0.000189 -0.000189  0.000189  0.000397  1056.853796  -0.000051   \n",
       "123768 -0.000757 -0.000757  0.000946  0.000430  1056.801951  -0.000759   \n",
       "123769  0.000568 -0.000379  0.001705  0.000430  1056.752542  -0.000144   \n",
       "\n",
       "              date  bar_id  is_open_30  is_close_30  ret_fwd_5  y_tb_20  \n",
       "123765  2025-10-09     987           0            1   0.000568        0  \n",
       "123766  2025-10-09     988           0            1   0.004909        0  \n",
       "123767  2025-10-09     989           0            1   0.006790        0  \n",
       "123768  2025-10-09     990           0            1   0.009050        0  \n",
       "123769  2025-10-09     991           0            1   0.007919        0  "
      ],
      "text/html": [
       "<div>\n",
       "<style scoped>\n",
       "    .dataframe tbody tr th:only-of-type {\n",
       "        vertical-align: middle;\n",
       "    }\n",
       "\n",
       "    .dataframe tbody tr th {\n",
       "        vertical-align: top;\n",
       "    }\n",
       "\n",
       "    .dataframe thead th {\n",
       "        text-align: right;\n",
       "    }\n",
       "</style>\n",
       "<table border=\"1\" class=\"dataframe\">\n",
       "  <thead>\n",
       "    <tr style=\"text-align: right;\">\n",
       "      <th></th>\n",
       "      <th>time</th>\n",
       "      <th>open</th>\n",
       "      <th>high</th>\n",
       "      <th>low</th>\n",
       "      <th>close</th>\n",
       "      <th>volume</th>\n",
       "      <th>ret_1</th>\n",
       "      <th>ret_5</th>\n",
       "      <th>rng_1</th>\n",
       "      <th>vol_20</th>\n",
       "      <th>vwap_20</th>\n",
       "      <th>dist_vwap</th>\n",
       "      <th>date</th>\n",
       "      <th>bar_id</th>\n",
       "      <th>is_open_30</th>\n",
       "      <th>is_close_30</th>\n",
       "      <th>ret_fwd_5</th>\n",
       "      <th>y_tb_20</th>\n",
       "    </tr>\n",
       "  </thead>\n",
       "  <tbody>\n",
       "    <tr>\n",
       "      <th>123765</th>\n",
       "      <td>2025-10-09 20:45:00+00:00</td>\n",
       "      <td>1056.2</td>\n",
       "      <td>1056.4</td>\n",
       "      <td>1056.2</td>\n",
       "      <td>1056.4</td>\n",
       "      <td>954</td>\n",
       "      <td>-0.000568</td>\n",
       "      <td>-0.000189</td>\n",
       "      <td>0.000189</td>\n",
       "      <td>0.000405</td>\n",
       "      <td>1056.885552</td>\n",
       "      <td>-0.000460</td>\n",
       "      <td>2025-10-09</td>\n",
       "      <td>987</td>\n",
       "      <td>0</td>\n",
       "      <td>1</td>\n",
       "      <td>0.000568</td>\n",
       "      <td>0</td>\n",
       "    </tr>\n",
       "    <tr>\n",
       "      <th>123766</th>\n",
       "      <td>2025-10-09 20:46:00+00:00</td>\n",
       "      <td>1056.6</td>\n",
       "      <td>1056.6</td>\n",
       "      <td>1056.4</td>\n",
       "      <td>1056.6</td>\n",
       "      <td>29</td>\n",
       "      <td>0.000189</td>\n",
       "      <td>0.000189</td>\n",
       "      <td>0.000189</td>\n",
       "      <td>0.000397</td>\n",
       "      <td>1056.881324</td>\n",
       "      <td>-0.000266</td>\n",
       "      <td>2025-10-09</td>\n",
       "      <td>988</td>\n",
       "      <td>0</td>\n",
       "      <td>1</td>\n",
       "      <td>0.004909</td>\n",
       "      <td>0</td>\n",
       "    </tr>\n",
       "    <tr>\n",
       "      <th>123767</th>\n",
       "      <td>2025-10-09 20:47:00+00:00</td>\n",
       "      <td>1056.6</td>\n",
       "      <td>1056.8</td>\n",
       "      <td>1056.6</td>\n",
       "      <td>1056.8</td>\n",
       "      <td>810</td>\n",
       "      <td>0.000189</td>\n",
       "      <td>-0.000189</td>\n",
       "      <td>0.000189</td>\n",
       "      <td>0.000397</td>\n",
       "      <td>1056.853796</td>\n",
       "      <td>-0.000051</td>\n",
       "      <td>2025-10-09</td>\n",
       "      <td>989</td>\n",
       "      <td>0</td>\n",
       "      <td>1</td>\n",
       "      <td>0.006790</td>\n",
       "      <td>0</td>\n",
       "    </tr>\n",
       "    <tr>\n",
       "      <th>123768</th>\n",
       "      <td>2025-10-09 20:48:00+00:00</td>\n",
       "      <td>1056.8</td>\n",
       "      <td>1056.8</td>\n",
       "      <td>1055.8</td>\n",
       "      <td>1056.0</td>\n",
       "      <td>548</td>\n",
       "      <td>-0.000757</td>\n",
       "      <td>-0.000757</td>\n",
       "      <td>0.000946</td>\n",
       "      <td>0.000430</td>\n",
       "      <td>1056.801951</td>\n",
       "      <td>-0.000759</td>\n",
       "      <td>2025-10-09</td>\n",
       "      <td>990</td>\n",
       "      <td>0</td>\n",
       "      <td>1</td>\n",
       "      <td>0.009050</td>\n",
       "      <td>0</td>\n",
       "    </tr>\n",
       "    <tr>\n",
       "      <th>123769</th>\n",
       "      <td>2025-10-09 20:49:00+00:00</td>\n",
       "      <td>1056.4</td>\n",
       "      <td>1057.8</td>\n",
       "      <td>1056.0</td>\n",
       "      <td>1056.6</td>\n",
       "      <td>2265</td>\n",
       "      <td>0.000568</td>\n",
       "      <td>-0.000379</td>\n",
       "      <td>0.001705</td>\n",
       "      <td>0.000430</td>\n",
       "      <td>1056.752542</td>\n",
       "      <td>-0.000144</td>\n",
       "      <td>2025-10-09</td>\n",
       "      <td>991</td>\n",
       "      <td>0</td>\n",
       "      <td>1</td>\n",
       "      <td>0.007919</td>\n",
       "      <td>0</td>\n",
       "    </tr>\n",
       "  </tbody>\n",
       "</table>\n",
       "</div>"
      ]
     },
     "execution_count": 57,
     "metadata": {},
     "output_type": "execute_result"
    }
   ],
   "execution_count": 57
  },
  {
   "metadata": {
    "ExecuteTime": {
     "end_time": "2025-10-17T11:45:55.292659Z",
     "start_time": "2025-10-17T11:45:54.615686Z"
    }
   },
   "cell_type": "code",
   "source": [
    "# показать одну сгенерированную картинку\n",
    "from IPython.display import Image, display\n",
    "import glob\n",
    "imgs = glob.glob(f\"data/cv/images/{TICKER}/{TF}/win64_step16/*/img_*.png\")\n",
    "display(Image(filename=imgs[0])) if imgs else print(\"Нет изображений.\")\n"
   ],
   "id": "bf97053a628f4fbe",
   "outputs": [
    {
     "data": {
      "image/png": "[encoded data removed]",
      "text/plain": [
       "<IPython.core.display.Image object>"
      ]
     },
     "metadata": {},
     "output_type": "display_data"
    }
   ],
   "execution_count": 58
  },
  {
   "metadata": {
    "ExecuteTime": {
     "end_time": "2025-10-17T11:45:55.327866Z",
     "start_time": "2025-10-17T11:45:55.318655Z"
    }
   },
   "cell_type": "code",
   "source": "",
   "id": "d29183babd5ac87e",
   "outputs": [],
   "execution_count": 58
  },
  {
   "metadata": {},
   "cell_type": "markdown",
   "source": "Playing with stochastic",
   "id": "2c14a993351318c1"
  },
  {
   "metadata": {
    "ExecuteTime": {
     "end_time": "2025-10-17T11:45:56.299038Z",
     "start_time": "2025-10-17T11:45:55.333863Z"
    }
   },
   "cell_type": "code",
   "source": [
    "# Monte-Carlo valuation: FV/PV, mispricing metrics\n",
    "import numpy as np, pandas as pd\n",
    "from dataclasses import dataclass\n",
    "\n",
    "# --- вход: путь к файлу с ценами (достаточно колонок time, close) ---\n",
    "PATH = f\"warehouse/{TICKER.lower()}_1m.parquet\"  # можно заменить на daily файл с колонками time, close\n",
    "# TICKER = \"SBER\"\n",
    "\n",
    "# --- параметры моделирования ---\n",
    "HORIZON_DAYS = 20             # горизонт прогноза в торговых днях\n",
    "N_SIMS       = 20000          # число симуляций\n",
    "MODEL        = \"gbm\"          # \"gbm\" или \"bootstrap\" (эмпирическое бутстрапирование дневных ретёрнов)\n",
    "DT           = 1/252          # шаг (в годах) для дневной сетки\n",
    "R_ANNUAL     = 0.12           # годовая ставка дисконтирования (напр., рубл. безрисковая/требуемая доходность)\n",
    "USE_LOG      = True           # PV/FV считаем из лог-нормальной цены\n",
    "SEED         = 42\n",
    "\n",
    "# --- подготовка дневных ретёрнов из произвольной частоты ---\n",
    "df = pd.read_parquet(PATH).sort_values(\"time\").copy()\n",
    "df[\"time\"] = pd.to_datetime(df[\"time\"])\n",
    "# если это минутки — агрегируем в дневные \"close\" по последнему бару\n",
    "daily = (df.set_index(\"time\")[[\"close\"]]\n",
    "           .resample(\"1D\").last()\n",
    "           .dropna().rename(columns={\"close\":\"close\"}))\n",
    "\n",
    "# фильтр по торговым дням (исключим дни без движения, если были)\n",
    "daily = daily.replace([np.inf, -np.inf], np.nan).dropna()\n",
    "px = daily[\"close\"].astype(float)\n",
    "r  = np.log(px).diff().dropna() if USE_LOG else px.pct_change().dropna()\n",
    "\n",
    "# --- калибровка параметров GBM ---\n",
    "mu_hat  = r.mean() * 252      # годовой дрейф по историческим данным\n",
    "sig_hat = r.std(ddof=1) * np.sqrt(252)  # годовая волатильность\n",
    "\n",
    "@dataclass\n",
    "class MCResult:\n",
    "    fv_stats: pd.DataFrame\n",
    "    pv_stats: pd.DataFrame\n",
    "    details: dict\n",
    "\n",
    "np.random.seed(SEED)\n",
    "S0 = float(px.iloc[-1])\n",
    "\n",
    "def mc_simulate(S0, horizon_days, n_sims, model=\"gbm\"):\n",
    "    steps = horizon_days\n",
    "    if model == \"gbm\":\n",
    "        # дневная дискретизация GBM\n",
    "        mu_d  = mu_hat / 252.0\n",
    "        sig_d = sig_hat / np.sqrt(252.0)\n",
    "        # S_T = S0 * exp(sum((mu - 0.5*sigma^2)*dt + sigma*sqrt(dt)*Z))\n",
    "        z = np.random.normal(size=(steps, n_sims))\n",
    "        increments = (mu_d - 0.5*sig_d**2) + sig_d * z  # dt=1 день\n",
    "        log_ST = np.log(S0) + increments.sum(axis=0)\n",
    "        ST = np.exp(log_ST)\n",
    "    elif model == \"bootstrap\":\n",
    "        # эмпирическое бутстрапирование дневных ретов\n",
    "        boot_r = np.random.choice(r.values, size=(steps, n_sims), replace=True)\n",
    "        if USE_LOG:\n",
    "            ST = S0 * np.exp(boot_r.sum(axis=0))\n",
    "        else:\n",
    "            ST = S0 * np.prod(1 + boot_r, axis=0)\n",
    "    else:\n",
    "        raise ValueError(\"Unknown model\")\n",
    "    return ST\n",
    "\n",
    "# --- считaем распределения FV и PV ---\n",
    "ST = mc_simulate(S0, HORIZON_DAYS, N_SIMS, MODEL)\n",
    "# FV = ST (будущая стоимость на горизонте)\n",
    "FV = ST\n",
    "# PV = ожидаемая будущая стоимость, дисконтированная в \"сегодня\"\n",
    "disc = np.exp(-R_ANNUAL * (HORIZON_DAYS/252.0))\n",
    "PV  = FV * disc\n",
    "\n",
    "def summarize(vec):\n",
    "    return pd.Series({\n",
    "        \"mean\": np.mean(vec),\n",
    "        \"median\": np.median(vec),\n",
    "        \"p05\": np.percentile(vec, 5),\n",
    "        \"p25\": np.percentile(vec, 25),\n",
    "        \"p75\": np.percentile(vec, 75),\n",
    "        \"p95\": np.percentile(vec, 95),\n",
    "        \"std\": np.std(vec, ddof=1)\n",
    "    })\n",
    "\n",
    "fv_stats = summarize(FV)\n",
    "pv_stats = summarize(PV)\n",
    "\n",
    "# --- метрики \"переоценен/недооценен\" ---\n",
    "cur = S0\n",
    "# вероятность, что дисконтированная стоимость > текущей цены\n",
    "p_pv_gt_spot = float((PV > cur).mean())\n",
    "# ожидаемая доходность к горизонту (реальная, не дисконт.)\n",
    "exp_ret = float((FV/cur - 1.0).mean())\n",
    "# миспрайсинг как отношение справедливой PV к споту\n",
    "pv_fair = pv_stats[\"mean\"]\n",
    "mispricing_ratio = float(pv_fair / cur)   # >1 недооценен, <1 переоценен\n",
    "# z-score текущей цены относительно PV-распределения\n",
    "pv_std = pv_stats[\"std\"]\n",
    "pv_z = float((cur - pv_fair) / pv_std) if pv_std > 0 else np.nan\n",
    "# вероятность убытка на горизонте\n",
    "p_loss = float((FV < cur).mean())\n",
    "# ожидаемый shortfall при 5% (ES)\n",
    "q05 = np.percentile(FV, 5)\n",
    "es05 = float(FV[FV <= q05].mean()) if (FV <= q05).any() else np.nan\n",
    "\n",
    "report = pd.DataFrame({\n",
    "    \"ticker\": [TICKER],\n",
    "    \"model\": [MODEL],\n",
    "    \"S0\": [cur],\n",
    "    \"H_days\": [HORIZON_DAYS],\n",
    "    \"r_annual\": [R_ANNUAL],\n",
    "    \"mu_ann_hist\": [mu_hat],\n",
    "    \"sigma_ann_hist\": [sig_hat],\n",
    "    \"PV_mean\": [pv_fair],\n",
    "    \"PV/Spot\": [mispricing_ratio],\n",
    "    \"PV_z\": [pv_z],\n",
    "    \"P(PV>Spot)\": [p_pv_gt_spot],\n",
    "    \"E[Ret]\": [exp_ret],\n",
    "    \"P(Loss)\": [p_loss],\n",
    "    \"ES_5pct\": [es05],\n",
    "    \"FV_p05\": [np.percentile(FV,5)],\n",
    "    \"FV_p50\": [np.percentile(FV,50)],\n",
    "    \"FV_p95\": [np.percentile(FV,95)]\n",
    "})\n",
    "\n",
    "print(\"=== FV stats ===\"); display(fv_stats.to_frame(\"value\"))\n",
    "print(\"=== PV stats ===\"); display(pv_stats.to_frame(\"value\"))\n",
    "print(\"=== Valuation report ===\"); display(report)\n"
   ],
   "id": "2cff0a49ae0be838",
   "outputs": [
    {
     "name": "stdout",
     "output_type": "stream",
     "text": [
      "=== FV stats ===\n"
     ]
    },
    {
     "data": {
      "text/plain": [
       "              value\n",
       "mean    1048.047055\n",
       "median  1044.051753\n",
       "p05      899.953255\n",
       "p25      982.280949\n",
       "p75     1108.522834\n",
       "p95     1209.007998\n",
       "std       94.087288"
      ],
      "text/html": [
       "<div>\n",
       "<style scoped>\n",
       "    .dataframe tbody tr th:only-of-type {\n",
       "        vertical-align: middle;\n",
       "    }\n",
       "\n",
       "    .dataframe tbody tr th {\n",
       "        vertical-align: top;\n",
       "    }\n",
       "\n",
       "    .dataframe thead th {\n",
       "        text-align: right;\n",
       "    }\n",
       "</style>\n",
       "<table border=\"1\" class=\"dataframe\">\n",
       "  <thead>\n",
       "    <tr style=\"text-align: right;\">\n",
       "      <th></th>\n",
       "      <th>value</th>\n",
       "    </tr>\n",
       "  </thead>\n",
       "  <tbody>\n",
       "    <tr>\n",
       "      <th>mean</th>\n",
       "      <td>1048.047055</td>\n",
       "    </tr>\n",
       "    <tr>\n",
       "      <th>median</th>\n",
       "      <td>1044.051753</td>\n",
       "    </tr>\n",
       "    <tr>\n",
       "      <th>p05</th>\n",
       "      <td>899.953255</td>\n",
       "    </tr>\n",
       "    <tr>\n",
       "      <th>p25</th>\n",
       "      <td>982.280949</td>\n",
       "    </tr>\n",
       "    <tr>\n",
       "      <th>p75</th>\n",
       "      <td>1108.522834</td>\n",
       "    </tr>\n",
       "    <tr>\n",
       "      <th>p95</th>\n",
       "      <td>1209.007998</td>\n",
       "    </tr>\n",
       "    <tr>\n",
       "      <th>std</th>\n",
       "      <td>94.087288</td>\n",
       "    </tr>\n",
       "  </tbody>\n",
       "</table>\n",
       "</div>"
      ]
     },
     "metadata": {},
     "output_type": "display_data"
    },
    {
     "name": "stdout",
     "output_type": "stream",
     "text": [
      "=== PV stats ===\n"
     ]
    },
    {
     "data": {
      "text/plain": [
       "              value\n",
       "mean    1038.113034\n",
       "median  1034.155602\n",
       "p05      891.422957\n",
       "p25      972.970300\n",
       "p75     1098.015587\n",
       "p95     1197.548293\n",
       "std       93.195472"
      ],
      "text/html": [
       "<div>\n",
       "<style scoped>\n",
       "    .dataframe tbody tr th:only-of-type {\n",
       "        vertical-align: middle;\n",
       "    }\n",
       "\n",
       "    .dataframe tbody tr th {\n",
       "        vertical-align: top;\n",
       "    }\n",
       "\n",
       "    .dataframe thead th {\n",
       "        text-align: right;\n",
       "    }\n",
       "</style>\n",
       "<table border=\"1\" class=\"dataframe\">\n",
       "  <thead>\n",
       "    <tr style=\"text-align: right;\">\n",
       "      <th></th>\n",
       "      <th>value</th>\n",
       "    </tr>\n",
       "  </thead>\n",
       "  <tbody>\n",
       "    <tr>\n",
       "      <th>mean</th>\n",
       "      <td>1038.113034</td>\n",
       "    </tr>\n",
       "    <tr>\n",
       "      <th>median</th>\n",
       "      <td>1034.155602</td>\n",
       "    </tr>\n",
       "    <tr>\n",
       "      <th>p05</th>\n",
       "      <td>891.422957</td>\n",
       "    </tr>\n",
       "    <tr>\n",
       "      <th>p25</th>\n",
       "      <td>972.970300</td>\n",
       "    </tr>\n",
       "    <tr>\n",
       "      <th>p75</th>\n",
       "      <td>1098.015587</td>\n",
       "    </tr>\n",
       "    <tr>\n",
       "      <th>p95</th>\n",
       "      <td>1197.548293</td>\n",
       "    </tr>\n",
       "    <tr>\n",
       "      <th>std</th>\n",
       "      <td>93.195472</td>\n",
       "    </tr>\n",
       "  </tbody>\n",
       "</table>\n",
       "</div>"
      ]
     },
     "metadata": {},
     "output_type": "display_data"
    },
    {
     "name": "stdout",
     "output_type": "stream",
     "text": [
      "=== Valuation report ===\n"
     ]
    },
    {
     "data": {
      "text/plain": [
       "  ticker model      S0  H_days  r_annual  mu_ann_hist  sigma_ann_hist  \\\n",
       "0   GMKN   gbm  1056.6      20      0.12    -0.102289        0.319687   \n",
       "\n",
       "       PV_mean   PV/Spot      PV_z  P(PV>Spot)    E[Ret]  P(Loss)     ES_5pct  \\\n",
       "0  1038.113034  0.982503  0.198368     0.40565 -0.008095  0.55155  867.680916   \n",
       "\n",
       "       FV_p05       FV_p50       FV_p95  \n",
       "0  899.953255  1044.051753  1209.007998  "
      ],
      "text/html": [
       "<div>\n",
       "<style scoped>\n",
       "    .dataframe tbody tr th:only-of-type {\n",
       "        vertical-align: middle;\n",
       "    }\n",
       "\n",
       "    .dataframe tbody tr th {\n",
       "        vertical-align: top;\n",
       "    }\n",
       "\n",
       "    .dataframe thead th {\n",
       "        text-align: right;\n",
       "    }\n",
       "</style>\n",
       "<table border=\"1\" class=\"dataframe\">\n",
       "  <thead>\n",
       "    <tr style=\"text-align: right;\">\n",
       "      <th></th>\n",
       "      <th>ticker</th>\n",
       "      <th>model</th>\n",
       "      <th>S0</th>\n",
       "      <th>H_days</th>\n",
       "      <th>r_annual</th>\n",
       "      <th>mu_ann_hist</th>\n",
       "      <th>sigma_ann_hist</th>\n",
       "      <th>PV_mean</th>\n",
       "      <th>PV/Spot</th>\n",
       "      <th>PV_z</th>\n",
       "      <th>P(PV&gt;Spot)</th>\n",
       "      <th>E[Ret]</th>\n",
       "      <th>P(Loss)</th>\n",
       "      <th>ES_5pct</th>\n",
       "      <th>FV_p05</th>\n",
       "      <th>FV_p50</th>\n",
       "      <th>FV_p95</th>\n",
       "    </tr>\n",
       "  </thead>\n",
       "  <tbody>\n",
       "    <tr>\n",
       "      <th>0</th>\n",
       "      <td>GMKN</td>\n",
       "      <td>gbm</td>\n",
       "      <td>1056.6</td>\n",
       "      <td>20</td>\n",
       "      <td>0.12</td>\n",
       "      <td>-0.102289</td>\n",
       "      <td>0.319687</td>\n",
       "      <td>1038.113034</td>\n",
       "      <td>0.982503</td>\n",
       "      <td>0.198368</td>\n",
       "      <td>0.40565</td>\n",
       "      <td>-0.008095</td>\n",
       "      <td>0.55155</td>\n",
       "      <td>867.680916</td>\n",
       "      <td>899.953255</td>\n",
       "      <td>1044.051753</td>\n",
       "      <td>1209.007998</td>\n",
       "    </tr>\n",
       "  </tbody>\n",
       "</table>\n",
       "</div>"
      ]
     },
     "metadata": {},
     "output_type": "display_data"
    }
   ],
   "execution_count": 59
  },
  {
   "metadata": {
    "ExecuteTime": {
     "end_time": "2025-10-17T10:00:26.524302Z",
     "start_time": "2025-10-17T10:00:26.521201Z"
    }
   },
   "cell_type": "code",
   "outputs": [],
   "execution_count": 23,
   "source": "",
   "id": "68f03390b44e359d"
  },
  {
   "metadata": {
    "ExecuteTime": {
     "end_time": "2025-10-05T22:06:59.190686Z",
     "start_time": "2025-10-05T22:06:59.065234Z"
    }
   },
   "cell_type": "code",
   "source": [
    "# HAR-RV из минуток → дневная RV → OLS с константой → прогноз σ на следующий день\n",
    "\n",
    "import numpy as np, pandas as pd, statsmodels.api as sm\n",
    "\n",
    "# 1) загрузка минуток (должны быть time, close)\n",
    "m = pd.read_parquet(FEAT_PATH).sort_values(\"time\").copy()\n",
    "m[\"time\"] = pd.to_datetime(m[\"time\"], utc=True)\n",
    "\n",
    "# 2) минутные лог-ретёрны и дневная realized variance\n",
    "m[\"ret\"] = np.log(m[\"close\"]).diff()\n",
    "m[\"date\"] = m[\"time\"].dt.tz_convert(None).dt.date\n",
    "rv_daily = (m.dropna(subset=[\"ret\"])\n",
    "              .groupby(\"date\")[\"ret\"]\n",
    "              .apply(lambda x: np.sum(x.values**2))\n",
    "              .rename(\"rv\")\n",
    "              .to_frame())\n",
    "\n",
    "# 3) признаки HAR: d-1, weekly(5), monthly(22) — все лагируем на 1 день\n",
    "d = rv_daily.copy()\n",
    "d[\"rv_d1\"] = d[\"rv\"].shift(1)\n",
    "d[\"rv_w\"]  = d[\"rv\"].rolling(5).mean().shift(1)\n",
    "d[\"rv_m\"]  = d[\"rv\"].rolling(22).mean().shift(1)\n",
    "\n",
    "# 4) обучающая выборка без NaN\n",
    "D = d.dropna().copy()\n",
    "assert len(D) >= 40, \"Мало данных для HAR-RV\"\n",
    "\n",
    "# 5) дизайн-матрица c константой\n",
    "X = sm.add_constant(D[[\"rv_d1\",\"rv_w\",\"rv_m\"]])\n",
    "y = D[\"rv\"]\n",
    "\n",
    "model = sm.OLS(y, X).fit()\n",
    "\n",
    "# 6) предиктор на «завтра»: берём ПОСЛЕДНЮЮ строку признаков и подаём те же столбцы X.columns\n",
    "x_last = d[[\"rv_d1\",\"rv_w\",\"rv_m\"]].iloc[[-1]].copy()\n",
    "if x_last.isna().any(axis=1).iloc[0]:\n",
    "    # если не хватает истории для недельного/месячного окна — используем последнюю валидную строку\n",
    "    x_last = D[[\"rv_d1\",\"rv_w\",\"rv_m\"]].iloc[[-1]].copy()\n",
    "\n",
    "x_last_const = pd.concat([pd.Series({\"const\":1.0}), x_last.squeeze()]).to_frame().T\n",
    "x_last_const = x_last_const[X.columns]  # порядок и набор столбцов как у обучения\n",
    "\n",
    "rv_pred = float(model.predict(x_last_const).iloc[0])\n",
    "rv_pred = max(rv_pred, 0.0)             # неотрицательность\n",
    "sigma_pred = float(np.sqrt(rv_pred))    # дневная σ\n",
    "\n",
    "print(f\"HAR-RV: rv_pred={rv_pred:.6f}, sigma_pred={sigma_pred:.6f}\")\n"
   ],
   "id": "55b5b0ff697d650",
   "outputs": [
    {
     "name": "stdout",
     "output_type": "stream",
     "text": [
      "HAR-RV: rv_pred=0.000214, sigma_pred=0.014637\n"
     ]
    }
   ],
   "execution_count": 36
  },
  {
   "metadata": {
    "ExecuteTime": {
     "end_time": "2025-10-05T22:07:08.390841Z",
     "start_time": "2025-10-05T22:07:08.247925Z"
    }
   },
   "cell_type": "code",
   "source": [
    "# pip install arch\n",
    "import pandas as pd, numpy as np\n",
    "from arch import arch_model\n",
    "prices = pd.read_parquet(MART_FILE)[[\"time\",\"close\"]].sort_values(\"time\")\n",
    "r_d = np.log(prices[\"close\"]).diff().dropna()*100  # в %\n",
    "am = arch_model(r_d, vol=\"Garch\", p=1, q=1, dist=\"normal\").fit(disp=\"off\")\n",
    "fore = am.forecast(horizon=HORIZON_DAYS, reindex=False)\n",
    "sigma_garch_day = float(np.sqrt(fore.variance.values[-1].mean())/100)  # вернём в долях\n"
   ],
   "id": "665ab94af497c6ac",
   "outputs": [],
   "execution_count": 37
  },
  {
   "metadata": {
    "ExecuteTime": {
     "end_time": "2025-10-05T22:07:11.000948Z",
     "start_time": "2025-10-05T22:07:10.907077Z"
    }
   },
   "cell_type": "code",
   "source": [
    "# вместо исторической sig_hat используем mix:\n",
    "sig_hat = float(0.5*sigma_pred + 0.5*sigma_garch_day)\n"
   ],
   "id": "7a496014696f3cbf",
   "outputs": [],
   "execution_count": 38
  },
  {
   "metadata": {
    "ExecuteTime": {
     "end_time": "2025-10-05T22:07:15.679909Z",
     "start_time": "2025-10-05T22:07:12.487610Z"
    }
   },
   "cell_type": "code",
   "source": [
    "# pip install hmmlearn\n",
    "import numpy as np, pandas as pd\n",
    "from hmmlearn.hmm import GaussianHMM\n",
    "r_d = np.log(daily[\"close\"]).diff().dropna().values.reshape(-1,1)\n",
    "hmm = GaussianHMM(n_components=2, covariance_type=\"full\", n_iter=200, random_state=42).fit(r_d)\n",
    "weights = hmm.predict_proba(r_d)[-1]  # постериоры последнего дня\n",
    "mus = hmm.means_.flatten()\n",
    "sigmas = np.sqrt(np.array([np.squeeze(c) for c in hmm.covars_]))\n",
    "# в MC смешиваем два набора μ_d, σ_d по весам\n"
   ],
   "id": "abf17ad5d4ce1a39",
   "outputs": [
    {
     "name": "stderr",
     "output_type": "stream",
     "text": [
      "Model is not converging.  Current: 860.2355892629803 is not greater than 860.3282625280441. Delta is -0.09267326506380869\n"
     ]
    }
   ],
   "execution_count": 39
  },
  {
   "metadata": {
    "ExecuteTime": {
     "end_time": "2025-10-05T22:08:22.779474Z",
     "start_time": "2025-10-05T22:08:21.416162Z"
    }
   },
   "cell_type": "code",
   "source": [
    "# pip install hmmlearn scikit-learn\n",
    "import numpy as np, pandas as pd\n",
    "from hmmlearn.hmm import GaussianHMM\n",
    "from sklearn.preprocessing import StandardScaler\n",
    "\n",
    "# r_d: дневные лог-ретёрны, 1D колонка\n",
    "r_d = np.log(daily[\"close\"]).diff().dropna().values.reshape(-1,1)\n",
    "assert len(r_d) >= 250, \"Нужно ≥ ~1 года дневных точек для устойчивости\"\n",
    "\n",
    "# стандартизация\n",
    "sc = StandardScaler()\n",
    "r_s = sc.fit_transform(r_d)\n",
    "\n",
    "def fit_hmm_multi(X, n_components=2, n_restarts=5, seed0=42):\n",
    "    best, best_score = None, -np.inf\n",
    "    for s in range(n_restarts):\n",
    "        mdl = GaussianHMM(\n",
    "            n_components=n_components,\n",
    "            covariance_type=\"diag\",   # устойчивее, чем full для 1D\n",
    "            n_iter=1000,\n",
    "            tol=1e-4,\n",
    "            min_covar=1e-6,\n",
    "            random_state=seed0+s,\n",
    "            verbose=False\n",
    "        )\n",
    "        mdl.fit(X)\n",
    "        score = mdl.score(X)\n",
    "        if score > best_score:\n",
    "            best, best_score = mdl, score\n",
    "    return best\n",
    "\n",
    "hmm = fit_hmm_multi(r_s, n_components=2, n_restarts=8)\n",
    "\n",
    "print(\"Converged:\", hmm.monitor_.converged, \"score:\", hmm.score(r_s))\n",
    "\n",
    "# постериоры последнего дня\n",
    "weights = hmm.predict_proba(r_s)[-1]\n",
    "\n",
    "# параметры в исходном масштабе\n",
    "mus_s    = hmm.means_.flatten()              # в z-скейле\n",
    "sigmas_s = np.sqrt(hmm.covars_.flatten())    # diag ковары в z-скейле\n",
    "\n",
    "# обратная трансформация\n",
    "mus    = (mus_s * sc.scale_) + sc.mean_\n",
    "sigmas = sigmas_s * sc.scale_\n",
    "\n",
    "print(\"Regime μ:\", mus, \"σ:\", sigmas, \"weights:\", weights)\n"
   ],
   "id": "2160321c66c17a45",
   "outputs": [
    {
     "name": "stdout",
     "output_type": "stream",
     "text": [
      "Converged: True score: -380.5049909284549\n",
      "Regime μ: [ 0.00254688 -0.00128588] σ: [0.02251484 0.00813513] weights: [0.04359322 0.95640678]\n"
     ]
    }
   ],
   "execution_count": 40
  },
  {
   "metadata": {},
   "cell_type": "code",
   "outputs": [],
   "execution_count": null,
   "source": "",
   "id": "10124633bae12b3a"
  }
 ],
 "metadata": {
  "kernelspec": {
   "name": "python3",
   "language": "python",
   "display_name": "Python 3 (ipykernel)"
  }
 },
 "nbformat": 4,
 "nbformat_minor": 5
}
