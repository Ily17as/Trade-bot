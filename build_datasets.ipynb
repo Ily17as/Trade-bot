{
 "cells": [
  {
   "cell_type": "markdown",
   "id": "2e7010d1",
   "metadata": {},
   "source": [
    "# Build Datasets: ML & CV Orchestrator\n",
    "\n",
    "Run from the **project root**. It uses your `scripts/` modules to generate:\n",
    "- ML features and labels parquet datasets\n",
    "- Optional CV image renders for visual QA\n",
    "\n",
    "Edit parameters in the next cell and execute top-to-bottom.\n"
   ]
  },
  {
   "cell_type": "code",
   "id": "57cb828b",
   "metadata": {
    "ExecuteTime": {
     "end_time": "2025-10-05T21:41:44.258632Z",
     "start_time": "2025-10-05T21:41:41.189420Z"
    }
   },
   "source": [
    "# Рабочий каталог = корень проекта\n",
    "import os, sys, pathlib\n",
    "ROOT = pathlib.Path(r\"C:\\Users\\Admin\\Desktop\\Code\\Trade-bot\")  # подправь путь при необходимости\n",
    "os.chdir(ROOT)\n",
    "if str(ROOT) not in sys.path:\n",
    "    sys.path.append(str(ROOT))\n",
    "\n",
    "# Авто-перезагрузка модулей при правках\n",
    "%load_ext autoreload\n",
    "%autoreload 2\n",
    "\n",
    "import platform, pandas as pd\n",
    "print(\"CWD:\", pathlib.Path().resolve())\n",
    "print(\"Python:\", platform.python_version())\n"
   ],
   "outputs": [
    {
     "name": "stdout",
     "output_type": "stream",
     "text": [
      "CWD: C:\\Users\\Admin\\Desktop\\Code\\Trade-bot\n",
      "Python: 3.11.0\n"
     ]
    }
   ],
   "execution_count": 1
  },
  {
   "cell_type": "code",
   "id": "e60e6e63",
   "metadata": {
    "ExecuteTime": {
     "end_time": "2025-10-05T21:45:39.730589Z",
     "start_time": "2025-10-05T21:45:39.663742Z"
    }
   },
   "source": [
    "TICKER     = \"SBER\"\n",
    "TF         = \"1d\"                  # \"1m\" / \"5m\" / \"1h\" / \"1d\"\n",
    "START      = \"2024-10-04\"\n",
    "END        = \"2025-10-04\"\n",
    "FIGI       = \"BBG004730N88\"        # FIGI SBER (пример)\n",
    "YF_SYMBOL  = \"SBER.ME\"             # запасной символ для yfinance\n",
    "\n",
    "RAW_GLOB   = f\"data/raw/*/{TICKER}/{TF}/year=*/month=*/part.parquet\"\n",
    "FEAT_PATH  = f\"data/features/ml/{TICKER}/{TF}/features.parquet\"\n",
    "FEAT_LBL   = f\"data/features/ml/{TICKER}/{TF}/features_labeled.parquet\"\n"
   ],
   "outputs": [],
   "execution_count": 20
  },
  {
   "cell_type": "code",
   "id": "e5a52825",
   "metadata": {
    "ExecuteTime": {
     "end_time": "2025-10-05T21:45:44.150800Z",
     "start_time": "2025-10-05T21:45:43.843231Z"
    }
   },
   "source": [
    "from scripts import fetch_data as F\n",
    "import pandas as pd\n",
    "\n",
    "# В модуле могло не быть fetch_intraday — добавим тонкую обёртку тут\n",
    "def fetch_intraday(ticker: str, tf: str, start, end, figi: str|None=None, yf_symbol: str|None=None):\n",
    "    if hasattr(F, \"fetch_intraday\"):\n",
    "        return F.fetch_intraday(ticker, tf, start, end, figi, yf_symbol)\n",
    "    # Иначе используем функции из модуля (Tinkoff -> MOEX -> yfinance)\n",
    "    from datetime import datetime\n",
    "    def _dt(x): \n",
    "        return x if isinstance(x, datetime) else datetime.fromisoformat(str(x))\n",
    "    START, END = _dt(start), _dt(end)\n",
    "    try:\n",
    "        if figi:\n",
    "            dft = F.fetch_tinkoff_chunked(figi, tf, START, END)\n",
    "            if not dft.empty:\n",
    "                return dft.sort_values(\"time\").drop_duplicates(\"time\"), \"tinkoff\"\n",
    "    except Exception: \n",
    "        pass\n",
    "    try:\n",
    "        dfm = F.fetch_moex_history(ticker, tf, str(START.date()), str(END.date()))\n",
    "        if not dfm.empty:\n",
    "            return dfm.sort_values(\"time\").drop_duplicates(\"time\"), \"moex\"\n",
    "    except Exception:\n",
    "        pass\n",
    "    sym = yf_symbol or f\"{ticker}.ME\"\n",
    "    dfy = F.fetch_yf(sym, tf, str(START.date()))\n",
    "    if not dfy.empty:\n",
    "        return dfy.sort_values(\"time\").drop_duplicates(\"time\"), \"yfinance\"\n",
    "    return pd.DataFrame(), None\n",
    "\n",
    "df_raw, src = fetch_intraday(TICKER, TF, START, END, figi=FIGI, yf_symbol=YF_SYMBOL)\n",
    "print(\"source:\", src, \"rows:\", len(df_raw), df_raw[\"time\"].min() if len(df_raw) else None, \"→\", df_raw[\"time\"].max() if len(df_raw) else None)\n",
    "df_raw.head()\n"
   ],
   "outputs": [
    {
     "name": "stdout",
     "output_type": "stream",
     "text": [
      "source: tinkoff rows: 302 2024-10-04 00:00:00+00:00 → 2025-10-04 00:00:00+00:00\n"
     ]
    },
    {
     "data": {
      "text/plain": [
       "                       time    open    high     low   close    volume\n",
       "0 2024-10-04 00:00:00+00:00  264.96  265.44  262.11  264.09  25992290\n",
       "1 2024-10-07 00:00:00+00:00  264.25  267.00  261.37  263.39  28940600\n",
       "2 2024-10-08 00:00:00+00:00  263.00  263.80  261.89  262.40  16163780\n",
       "3 2024-10-09 00:00:00+00:00  262.42  263.80  259.59  260.86  25021350\n",
       "4 2024-10-10 00:00:00+00:00  260.88  261.64  258.91  259.98  17677230"
      ],
      "text/html": [
       "<div>\n",
       "<style scoped>\n",
       "    .dataframe tbody tr th:only-of-type {\n",
       "        vertical-align: middle;\n",
       "    }\n",
       "\n",
       "    .dataframe tbody tr th {\n",
       "        vertical-align: top;\n",
       "    }\n",
       "\n",
       "    .dataframe thead th {\n",
       "        text-align: right;\n",
       "    }\n",
       "</style>\n",
       "<table border=\"1\" class=\"dataframe\">\n",
       "  <thead>\n",
       "    <tr style=\"text-align: right;\">\n",
       "      <th></th>\n",
       "      <th>time</th>\n",
       "      <th>open</th>\n",
       "      <th>high</th>\n",
       "      <th>low</th>\n",
       "      <th>close</th>\n",
       "      <th>volume</th>\n",
       "    </tr>\n",
       "  </thead>\n",
       "  <tbody>\n",
       "    <tr>\n",
       "      <th>0</th>\n",
       "      <td>2024-10-04 00:00:00+00:00</td>\n",
       "      <td>264.96</td>\n",
       "      <td>265.44</td>\n",
       "      <td>262.11</td>\n",
       "      <td>264.09</td>\n",
       "      <td>25992290</td>\n",
       "    </tr>\n",
       "    <tr>\n",
       "      <th>1</th>\n",
       "      <td>2024-10-07 00:00:00+00:00</td>\n",
       "      <td>264.25</td>\n",
       "      <td>267.00</td>\n",
       "      <td>261.37</td>\n",
       "      <td>263.39</td>\n",
       "      <td>28940600</td>\n",
       "    </tr>\n",
       "    <tr>\n",
       "      <th>2</th>\n",
       "      <td>2024-10-08 00:00:00+00:00</td>\n",
       "      <td>263.00</td>\n",
       "      <td>263.80</td>\n",
       "      <td>261.89</td>\n",
       "      <td>262.40</td>\n",
       "      <td>16163780</td>\n",
       "    </tr>\n",
       "    <tr>\n",
       "      <th>3</th>\n",
       "      <td>2024-10-09 00:00:00+00:00</td>\n",
       "      <td>262.42</td>\n",
       "      <td>263.80</td>\n",
       "      <td>259.59</td>\n",
       "      <td>260.86</td>\n",
       "      <td>25021350</td>\n",
       "    </tr>\n",
       "    <tr>\n",
       "      <th>4</th>\n",
       "      <td>2024-10-10 00:00:00+00:00</td>\n",
       "      <td>260.88</td>\n",
       "      <td>261.64</td>\n",
       "      <td>258.91</td>\n",
       "      <td>259.98</td>\n",
       "      <td>17677230</td>\n",
       "    </tr>\n",
       "  </tbody>\n",
       "</table>\n",
       "</div>"
      ]
     },
     "execution_count": 21,
     "metadata": {},
     "output_type": "execute_result"
    }
   ],
   "execution_count": 21
  },
  {
   "cell_type": "code",
   "id": "eea4eb4c",
   "metadata": {
    "ExecuteTime": {
     "end_time": "2025-10-05T21:45:44.290153Z",
     "start_time": "2025-10-05T21:45:44.151313Z"
    }
   },
   "source": [
    "if not df_raw.empty:\n",
    "    F.save_partitioned(df_raw, source=src or \"tinkoff\", ticker=TICKER, tf=TF)\n"
   ],
   "outputs": [],
   "execution_count": 22
  },
  {
   "cell_type": "code",
   "id": "01b0bb71",
   "metadata": {
    "ExecuteTime": {
     "end_time": "2025-10-05T21:45:44.595123Z",
     "start_time": "2025-10-05T21:45:44.304674Z"
    }
   },
   "source": [
    "from scripts.make_intraday_features import build_features\n",
    "import os\n",
    "os.makedirs(os.path.dirname(FEAT_PATH), exist_ok=True)\n",
    "\n",
    "fe = build_features(RAW_GLOB)\n",
    "fe.to_parquet(FEAT_PATH, index=False)\n",
    "len(fe), FEAT_PATH\n"
   ],
   "outputs": [
    {
     "data": {
      "text/plain": [
       "(302, 'data/features/ml/SBER/1d/features.parquet')"
      ]
     },
     "execution_count": 23,
     "metadata": {},
     "output_type": "execute_result"
    }
   ],
   "execution_count": 23
  },
  {
   "cell_type": "code",
   "id": "f8100a70",
   "metadata": {
    "ExecuteTime": {
     "end_time": "2025-10-05T21:45:44.682621Z",
     "start_time": "2025-10-05T21:45:44.596122Z"
    }
   },
   "source": [
    "from scripts.make_labels import next_k_return, triple_barrier\n",
    "df = pd.read_parquet(FEAT_PATH).sort_values(\"time\")\n",
    "\n",
    "df = next_k_return(df, k=5)                 # добавит ret_fwd_5\n",
    "df = triple_barrier(df, k=20, up=0.004, dn=0.004)  # добавит y_tb_20\n",
    "\n",
    "df.to_parquet(FEAT_LBL, index=False)\n",
    "len(df), df.columns.tolist()[-6:], FEAT_LBL\n"
   ],
   "outputs": [
    {
     "data": {
      "text/plain": [
       "(302,\n",
       " ['date', 'bar_id', 'is_open_30', 'is_close_30', 'ret_fwd_5', 'y_tb_20'],\n",
       " 'data/features/ml/SBER/1d/features_labeled.parquet')"
      ]
     },
     "execution_count": 24,
     "metadata": {},
     "output_type": "execute_result"
    }
   ],
   "execution_count": 24
  },
  {
   "cell_type": "code",
   "id": "b09afee7",
   "metadata": {
    "ExecuteTime": {
     "end_time": "2025-10-05T21:45:47.440054Z",
     "start_time": "2025-10-05T21:45:45.506667Z"
    }
   },
   "source": [
    "from scripts.render_cv_images import render_with_manifest\n",
    "MANIFEST = f\"data/cv/images/{TICKER}/{TF}/win64_step16/manifest_with_vol.csv\"\n",
    "\n",
    "rows = render_with_manifest(\n",
    "    in_parquet = FEAT_LBL,\n",
    "    ticker     = TICKER,\n",
    "    tf         = TF,\n",
    "    size       = 64,\n",
    "    step       = 16,\n",
    "    horizon    = 5,\n",
    "    show_axes  = False,          # True для дебага с осями\n",
    "    show_volume= True,           # рисуем колонны объёма\n",
    "    vol_mode   = \"raw\",          # 'raw' | 'zscore' | 'rel'\n",
    "    fixed_ylim = \"window\",       # автоскейл по окну для цен\n",
    "    manifest_csv = MANIFEST\n",
    ")\n",
    "len(rows), MANIFEST\n"
   ],
   "outputs": [
    {
     "data": {
      "text/plain": [
       "(15, 'data/cv/images/SBER/1d/win64_step16/manifest_with_vol.csv')"
      ]
     },
     "execution_count": 25,
     "metadata": {},
     "output_type": "execute_result"
    }
   ],
   "execution_count": 25
  },
  {
   "cell_type": "code",
   "id": "d9c4f863",
   "metadata": {
    "ExecuteTime": {
     "end_time": "2025-10-05T21:45:47.538784Z",
     "start_time": "2025-10-05T21:45:47.441149Z"
    }
   },
   "source": [
    "from scripts.qc_report import qc_summary\n",
    "qc = qc_summary(RAW_GLOB)\n",
    "qc\n"
   ],
   "outputs": [
    {
     "data": {
      "text/plain": [
       "   rows  zero_price  bad_hl  zero_vol          max_gap\n",
       "0   302           0       0         0  4 days 00:00:00"
      ],
      "text/html": [
       "<div>\n",
       "<style scoped>\n",
       "    .dataframe tbody tr th:only-of-type {\n",
       "        vertical-align: middle;\n",
       "    }\n",
       "\n",
       "    .dataframe tbody tr th {\n",
       "        vertical-align: top;\n",
       "    }\n",
       "\n",
       "    .dataframe thead th {\n",
       "        text-align: right;\n",
       "    }\n",
       "</style>\n",
       "<table border=\"1\" class=\"dataframe\">\n",
       "  <thead>\n",
       "    <tr style=\"text-align: right;\">\n",
       "      <th></th>\n",
       "      <th>rows</th>\n",
       "      <th>zero_price</th>\n",
       "      <th>bad_hl</th>\n",
       "      <th>zero_vol</th>\n",
       "      <th>max_gap</th>\n",
       "    </tr>\n",
       "  </thead>\n",
       "  <tbody>\n",
       "    <tr>\n",
       "      <th>0</th>\n",
       "      <td>302</td>\n",
       "      <td>0</td>\n",
       "      <td>0</td>\n",
       "      <td>0</td>\n",
       "      <td>4 days 00:00:00</td>\n",
       "    </tr>\n",
       "  </tbody>\n",
       "</table>\n",
       "</div>"
      ]
     },
     "execution_count": 26,
     "metadata": {},
     "output_type": "execute_result"
    }
   ],
   "execution_count": 26
  },
  {
   "cell_type": "code",
   "id": "bf59d9da",
   "metadata": {
    "ExecuteTime": {
     "end_time": "2025-10-05T21:45:49.246223Z",
     "start_time": "2025-10-05T21:45:49.169043Z"
    }
   },
   "source": [
    "import glob\n",
    "files = glob.glob(f\"data/features/ml/{TICKER}/{TF}/*.parquet\")\n",
    "mart = (pd.concat((pd.read_parquet(p) for p in files), ignore_index=True)\n",
    "          .drop_duplicates(\"time\").sort_values(\"time\"))\n",
    "os.makedirs(\"warehouse\", exist_ok=True)\n",
    "MART_FILE = f\"warehouse/{TICKER.lower()}_{TF}.parquet\"\n",
    "mart.to_parquet(MART_FILE, index=False)\n",
    "len(mart), MART_FILE\n"
   ],
   "outputs": [
    {
     "data": {
      "text/plain": [
       "(302, 'warehouse/sber_1d.parquet')"
      ]
     },
     "execution_count": 27,
     "metadata": {},
     "output_type": "execute_result"
    }
   ],
   "execution_count": 27
  },
  {
   "cell_type": "code",
   "id": "f2698a8f",
   "metadata": {
    "ExecuteTime": {
     "end_time": "2025-10-05T21:45:50.480139Z",
     "start_time": "2025-10-05T21:45:50.401433Z"
    }
   },
   "source": "pd.read_parquet(FEAT_LBL).tail()\n",
   "outputs": [
    {
     "data": {
      "text/plain": [
       "                         time    open    high     low   close    volume  \\\n",
       "297 2025-09-30 00:00:00+00:00  287.67  289.88  285.24  288.36  29382368   \n",
       "298 2025-10-01 00:00:00+00:00  288.88  290.39  285.11  286.40  22897705   \n",
       "299 2025-10-02 00:00:00+00:00  286.40  287.15  282.80  285.22  28023440   \n",
       "300 2025-10-03 00:00:00+00:00  285.75  287.32  282.58  282.91  17098575   \n",
       "301 2025-10-04 00:00:00+00:00  283.00  283.00  279.39  280.40   5632692   \n",
       "\n",
       "        ret_1     ret_5     rng_1    vol_20     vwap_20  dist_vwap  \\\n",
       "297  0.002743 -0.005326  0.016135  0.009420  298.475711  -0.035080   \n",
       "298 -0.006820 -0.017067  0.018310  0.009369  297.451163  -0.038586   \n",
       "299 -0.004129 -0.022431  0.015189  0.009256  296.243134  -0.038648   \n",
       "300 -0.008132 -0.028469  0.016619  0.009245  295.121846  -0.043165   \n",
       "301 -0.008912 -0.025249  0.012760  0.009140  294.099232  -0.048856   \n",
       "\n",
       "           date  bar_id  is_open_30  is_close_30  ret_fwd_5  y_tb_20  \n",
       "297  2025-09-30       0           1            1  -0.087920       -1  \n",
       "298  2025-10-01       0           1            1  -0.083754       -1  \n",
       "299  2025-10-02       0           1            1  -0.083391       -1  \n",
       "300  2025-10-03       0           1            1  -0.081145       -1  \n",
       "301  2025-10-04       0           1            1  -0.075612        0  "
      ],
      "text/html": [
       "<div>\n",
       "<style scoped>\n",
       "    .dataframe tbody tr th:only-of-type {\n",
       "        vertical-align: middle;\n",
       "    }\n",
       "\n",
       "    .dataframe tbody tr th {\n",
       "        vertical-align: top;\n",
       "    }\n",
       "\n",
       "    .dataframe thead th {\n",
       "        text-align: right;\n",
       "    }\n",
       "</style>\n",
       "<table border=\"1\" class=\"dataframe\">\n",
       "  <thead>\n",
       "    <tr style=\"text-align: right;\">\n",
       "      <th></th>\n",
       "      <th>time</th>\n",
       "      <th>open</th>\n",
       "      <th>high</th>\n",
       "      <th>low</th>\n",
       "      <th>close</th>\n",
       "      <th>volume</th>\n",
       "      <th>ret_1</th>\n",
       "      <th>ret_5</th>\n",
       "      <th>rng_1</th>\n",
       "      <th>vol_20</th>\n",
       "      <th>vwap_20</th>\n",
       "      <th>dist_vwap</th>\n",
       "      <th>date</th>\n",
       "      <th>bar_id</th>\n",
       "      <th>is_open_30</th>\n",
       "      <th>is_close_30</th>\n",
       "      <th>ret_fwd_5</th>\n",
       "      <th>y_tb_20</th>\n",
       "    </tr>\n",
       "  </thead>\n",
       "  <tbody>\n",
       "    <tr>\n",
       "      <th>297</th>\n",
       "      <td>2025-09-30 00:00:00+00:00</td>\n",
       "      <td>287.67</td>\n",
       "      <td>289.88</td>\n",
       "      <td>285.24</td>\n",
       "      <td>288.36</td>\n",
       "      <td>29382368</td>\n",
       "      <td>0.002743</td>\n",
       "      <td>-0.005326</td>\n",
       "      <td>0.016135</td>\n",
       "      <td>0.009420</td>\n",
       "      <td>298.475711</td>\n",
       "      <td>-0.035080</td>\n",
       "      <td>2025-09-30</td>\n",
       "      <td>0</td>\n",
       "      <td>1</td>\n",
       "      <td>1</td>\n",
       "      <td>-0.087920</td>\n",
       "      <td>-1</td>\n",
       "    </tr>\n",
       "    <tr>\n",
       "      <th>298</th>\n",
       "      <td>2025-10-01 00:00:00+00:00</td>\n",
       "      <td>288.88</td>\n",
       "      <td>290.39</td>\n",
       "      <td>285.11</td>\n",
       "      <td>286.40</td>\n",
       "      <td>22897705</td>\n",
       "      <td>-0.006820</td>\n",
       "      <td>-0.017067</td>\n",
       "      <td>0.018310</td>\n",
       "      <td>0.009369</td>\n",
       "      <td>297.451163</td>\n",
       "      <td>-0.038586</td>\n",
       "      <td>2025-10-01</td>\n",
       "      <td>0</td>\n",
       "      <td>1</td>\n",
       "      <td>1</td>\n",
       "      <td>-0.083754</td>\n",
       "      <td>-1</td>\n",
       "    </tr>\n",
       "    <tr>\n",
       "      <th>299</th>\n",
       "      <td>2025-10-02 00:00:00+00:00</td>\n",
       "      <td>286.40</td>\n",
       "      <td>287.15</td>\n",
       "      <td>282.80</td>\n",
       "      <td>285.22</td>\n",
       "      <td>28023440</td>\n",
       "      <td>-0.004129</td>\n",
       "      <td>-0.022431</td>\n",
       "      <td>0.015189</td>\n",
       "      <td>0.009256</td>\n",
       "      <td>296.243134</td>\n",
       "      <td>-0.038648</td>\n",
       "      <td>2025-10-02</td>\n",
       "      <td>0</td>\n",
       "      <td>1</td>\n",
       "      <td>1</td>\n",
       "      <td>-0.083391</td>\n",
       "      <td>-1</td>\n",
       "    </tr>\n",
       "    <tr>\n",
       "      <th>300</th>\n",
       "      <td>2025-10-03 00:00:00+00:00</td>\n",
       "      <td>285.75</td>\n",
       "      <td>287.32</td>\n",
       "      <td>282.58</td>\n",
       "      <td>282.91</td>\n",
       "      <td>17098575</td>\n",
       "      <td>-0.008132</td>\n",
       "      <td>-0.028469</td>\n",
       "      <td>0.016619</td>\n",
       "      <td>0.009245</td>\n",
       "      <td>295.121846</td>\n",
       "      <td>-0.043165</td>\n",
       "      <td>2025-10-03</td>\n",
       "      <td>0</td>\n",
       "      <td>1</td>\n",
       "      <td>1</td>\n",
       "      <td>-0.081145</td>\n",
       "      <td>-1</td>\n",
       "    </tr>\n",
       "    <tr>\n",
       "      <th>301</th>\n",
       "      <td>2025-10-04 00:00:00+00:00</td>\n",
       "      <td>283.00</td>\n",
       "      <td>283.00</td>\n",
       "      <td>279.39</td>\n",
       "      <td>280.40</td>\n",
       "      <td>5632692</td>\n",
       "      <td>-0.008912</td>\n",
       "      <td>-0.025249</td>\n",
       "      <td>0.012760</td>\n",
       "      <td>0.009140</td>\n",
       "      <td>294.099232</td>\n",
       "      <td>-0.048856</td>\n",
       "      <td>2025-10-04</td>\n",
       "      <td>0</td>\n",
       "      <td>1</td>\n",
       "      <td>1</td>\n",
       "      <td>-0.075612</td>\n",
       "      <td>0</td>\n",
       "    </tr>\n",
       "  </tbody>\n",
       "</table>\n",
       "</div>"
      ]
     },
     "execution_count": 28,
     "metadata": {},
     "output_type": "execute_result"
    }
   ],
   "execution_count": 28
  },
  {
   "metadata": {
    "ExecuteTime": {
     "end_time": "2025-10-05T21:45:51.980139Z",
     "start_time": "2025-10-05T21:45:51.901750Z"
    }
   },
   "cell_type": "code",
   "source": [
    "# показать одну сгенерированную картинку\n",
    "from IPython.display import Image, display\n",
    "import glob\n",
    "imgs = glob.glob(f\"data/cv/images/{TICKER}/{TF}/win64_step16/*/img_*.png\")\n",
    "display(Image(filename=imgs[0])) if imgs else print(\"Нет изображений.\")\n"
   ],
   "id": "bf97053a628f4fbe",
   "outputs": [
    {
     "data": {
      "image/png": "[encoded data removed]",
      "text/plain": [
       "<IPython.core.display.Image object>"
      ]
     },
     "metadata": {},
     "output_type": "display_data"
    }
   ],
   "execution_count": 29
  },
  {
   "metadata": {
    "ExecuteTime": {
     "end_time": "2025-10-05T21:57:44.884384Z",
     "start_time": "2025-10-05T21:57:44.739263Z"
    }
   },
   "cell_type": "code",
   "source": [
    "# Monte-Carlo valuation: FV/PV, mispricing metrics\n",
    "import numpy as np, pandas as pd\n",
    "from dataclasses import dataclass\n",
    "\n",
    "# --- вход: путь к файлу с ценами (достаточно колонок time, close) ---\n",
    "PATH = \"warehouse/sber_1m.parquet\"  # можно заменить на daily файл с колонками time, close\n",
    "TICKER = \"SBER\"\n",
    "\n",
    "# --- параметры моделирования ---\n",
    "HORIZON_DAYS = 20             # горизонт прогноза в торговых днях\n",
    "N_SIMS       = 20000          # число симуляций\n",
    "MODEL        = \"gbm\"          # \"gbm\" или \"bootstrap\" (эмпирическое бутстрапирование дневных ретёрнов)\n",
    "DT           = 1/252          # шаг (в годах) для дневной сетки\n",
    "R_ANNUAL     = 0.12           # годовая ставка дисконтирования (напр., рубл. безрисковая/требуемая доходность)\n",
    "USE_LOG      = True           # PV/FV считаем из лог-нормальной цены\n",
    "SEED         = 42\n",
    "\n",
    "# --- подготовка дневных ретёрнов из произвольной частоты ---\n",
    "df = pd.read_parquet(PATH).sort_values(\"time\").copy()\n",
    "df[\"time\"] = pd.to_datetime(df[\"time\"])\n",
    "# если это минутки — агрегируем в дневные \"close\" по последнему бару\n",
    "daily = (df.set_index(\"time\")[[\"close\"]]\n",
    "           .resample(\"1D\").last()\n",
    "           .dropna().rename(columns={\"close\":\"close\"}))\n",
    "\n",
    "# фильтр по торговым дням (исключим дни без движения, если были)\n",
    "daily = daily.replace([np.inf, -np.inf], np.nan).dropna()\n",
    "px = daily[\"close\"].astype(float)\n",
    "r  = np.log(px).diff().dropna() if USE_LOG else px.pct_change().dropna()\n",
    "\n",
    "# --- калибровка параметров GBM ---\n",
    "mu_hat  = r.mean() * 252      # годовой дрейф по историческим данным\n",
    "sig_hat = r.std(ddof=1) * np.sqrt(252)  # годовая волатильность\n",
    "\n",
    "@dataclass\n",
    "class MCResult:\n",
    "    fv_stats: pd.DataFrame\n",
    "    pv_stats: pd.DataFrame\n",
    "    details: dict\n",
    "\n",
    "np.random.seed(SEED)\n",
    "S0 = float(px.iloc[-1])\n",
    "\n",
    "def mc_simulate(S0, horizon_days, n_sims, model=\"gbm\"):\n",
    "    steps = horizon_days\n",
    "    if model == \"gbm\":\n",
    "        # дневная дискретизация GBM\n",
    "        mu_d  = mu_hat / 252.0\n",
    "        sig_d = sig_hat / np.sqrt(252.0)\n",
    "        # S_T = S0 * exp(sum((mu - 0.5*sigma^2)*dt + sigma*sqrt(dt)*Z))\n",
    "        z = np.random.normal(size=(steps, n_sims))\n",
    "        increments = (mu_d - 0.5*sig_d**2) + sig_d * z  # dt=1 день\n",
    "        log_ST = np.log(S0) + increments.sum(axis=0)\n",
    "        ST = np.exp(log_ST)\n",
    "    elif model == \"bootstrap\":\n",
    "        # эмпирическое бутстрапирование дневных ретов\n",
    "        boot_r = np.random.choice(r.values, size=(steps, n_sims), replace=True)\n",
    "        if USE_LOG:\n",
    "            ST = S0 * np.exp(boot_r.sum(axis=0))\n",
    "        else:\n",
    "            ST = S0 * np.prod(1 + boot_r, axis=0)\n",
    "    else:\n",
    "        raise ValueError(\"Unknown model\")\n",
    "    return ST\n",
    "\n",
    "# --- считaем распределения FV и PV ---\n",
    "ST = mc_simulate(S0, HORIZON_DAYS, N_SIMS, MODEL)\n",
    "# FV = ST (будущая стоимость на горизонте)\n",
    "FV = ST\n",
    "# PV = ожидаемая будущая стоимость, дисконтированная в \"сегодня\"\n",
    "disc = np.exp(-R_ANNUAL * (HORIZON_DAYS/252.0))\n",
    "PV  = FV * disc\n",
    "\n",
    "def summarize(vec):\n",
    "    return pd.Series({\n",
    "        \"mean\": np.mean(vec),\n",
    "        \"median\": np.median(vec),\n",
    "        \"p05\": np.percentile(vec, 5),\n",
    "        \"p25\": np.percentile(vec, 25),\n",
    "        \"p75\": np.percentile(vec, 75),\n",
    "        \"p95\": np.percentile(vec, 95),\n",
    "        \"std\": np.std(vec, ddof=1)\n",
    "    })\n",
    "\n",
    "fv_stats = summarize(FV)\n",
    "pv_stats = summarize(PV)\n",
    "\n",
    "# --- метрики \"переоценен/недооценен\" ---\n",
    "cur = S0\n",
    "# вероятность, что дисконтированная стоимость > текущей цены\n",
    "p_pv_gt_spot = float((PV > cur).mean())\n",
    "# ожидаемая доходность к горизонту (реальная, не дисконт.)\n",
    "exp_ret = float((FV/cur - 1.0).mean())\n",
    "# миспрайсинг как отношение справедливой PV к споту\n",
    "pv_fair = pv_stats[\"mean\"]\n",
    "mispricing_ratio = float(pv_fair / cur)   # >1 недооценен, <1 переоценен\n",
    "# z-score текущей цены относительно PV-распределения\n",
    "pv_std = pv_stats[\"std\"]\n",
    "pv_z = float((cur - pv_fair) / pv_std) if pv_std > 0 else np.nan\n",
    "# вероятность убытка на горизонте\n",
    "p_loss = float((FV < cur).mean())\n",
    "# ожидаемый shortfall при 5% (ES)\n",
    "q05 = np.percentile(FV, 5)\n",
    "es05 = float(FV[FV <= q05].mean()) if (FV <= q05).any() else np.nan\n",
    "\n",
    "report = pd.DataFrame({\n",
    "    \"ticker\": [TICKER],\n",
    "    \"model\": [MODEL],\n",
    "    \"S0\": [cur],\n",
    "    \"H_days\": [HORIZON_DAYS],\n",
    "    \"r_annual\": [R_ANNUAL],\n",
    "    \"mu_ann_hist\": [mu_hat],\n",
    "    \"sigma_ann_hist\": [sig_hat],\n",
    "    \"PV_mean\": [pv_fair],\n",
    "    \"PV/Spot\": [mispricing_ratio],\n",
    "    \"PV_z\": [pv_z],\n",
    "    \"P(PV>Spot)\": [p_pv_gt_spot],\n",
    "    \"E[Ret]\": [exp_ret],\n",
    "    \"P(Loss)\": [p_loss],\n",
    "    \"ES_5pct\": [es05],\n",
    "    \"FV_p05\": [np.percentile(FV,5)],\n",
    "    \"FV_p50\": [np.percentile(FV,50)],\n",
    "    \"FV_p95\": [np.percentile(FV,95)]\n",
    "})\n",
    "\n",
    "print(\"=== FV stats ===\"); display(fv_stats.to_frame(\"value\"))\n",
    "print(\"=== PV stats ===\"); display(pv_stats.to_frame(\"value\"))\n",
    "print(\"=== Valuation report ===\"); display(report)\n"
   ],
   "id": "2cff0a49ae0be838",
   "outputs": [
    {
     "name": "stdout",
     "output_type": "stream",
     "text": [
      "=== FV stats ===\n"
     ]
    },
    {
     "data": {
      "text/plain": [
       "             value\n",
       "mean    264.940248\n",
       "median  264.751366\n",
       "p05     247.764723\n",
       "p25     257.639629\n",
       "p75     271.929752\n",
       "p95     282.671504\n",
       "std      10.603861"
      ],
      "text/html": [
       "<div>\n",
       "<style scoped>\n",
       "    .dataframe tbody tr th:only-of-type {\n",
       "        vertical-align: middle;\n",
       "    }\n",
       "\n",
       "    .dataframe tbody tr th {\n",
       "        vertical-align: top;\n",
       "    }\n",
       "\n",
       "    .dataframe thead th {\n",
       "        text-align: right;\n",
       "    }\n",
       "</style>\n",
       "<table border=\"1\" class=\"dataframe\">\n",
       "  <thead>\n",
       "    <tr style=\"text-align: right;\">\n",
       "      <th></th>\n",
       "      <th>value</th>\n",
       "    </tr>\n",
       "  </thead>\n",
       "  <tbody>\n",
       "    <tr>\n",
       "      <th>mean</th>\n",
       "      <td>264.940248</td>\n",
       "    </tr>\n",
       "    <tr>\n",
       "      <th>median</th>\n",
       "      <td>264.751366</td>\n",
       "    </tr>\n",
       "    <tr>\n",
       "      <th>p05</th>\n",
       "      <td>247.764723</td>\n",
       "    </tr>\n",
       "    <tr>\n",
       "      <th>p25</th>\n",
       "      <td>257.639629</td>\n",
       "    </tr>\n",
       "    <tr>\n",
       "      <th>p75</th>\n",
       "      <td>271.929752</td>\n",
       "    </tr>\n",
       "    <tr>\n",
       "      <th>p95</th>\n",
       "      <td>282.671504</td>\n",
       "    </tr>\n",
       "    <tr>\n",
       "      <th>std</th>\n",
       "      <td>10.603861</td>\n",
       "    </tr>\n",
       "  </tbody>\n",
       "</table>\n",
       "</div>"
      ]
     },
     "metadata": {},
     "output_type": "display_data"
    },
    {
     "name": "stdout",
     "output_type": "stream",
     "text": [
      "=== PV stats ===\n"
     ]
    },
    {
     "data": {
      "text/plain": [
       "             value\n",
       "mean    262.428985\n",
       "median  262.241893\n",
       "p05     245.416260\n",
       "p25     255.197565\n",
       "p75     269.352239\n",
       "p95     279.992174\n",
       "std      10.503352"
      ],
      "text/html": [
       "<div>\n",
       "<style scoped>\n",
       "    .dataframe tbody tr th:only-of-type {\n",
       "        vertical-align: middle;\n",
       "    }\n",
       "\n",
       "    .dataframe tbody tr th {\n",
       "        vertical-align: top;\n",
       "    }\n",
       "\n",
       "    .dataframe thead th {\n",
       "        text-align: right;\n",
       "    }\n",
       "</style>\n",
       "<table border=\"1\" class=\"dataframe\">\n",
       "  <thead>\n",
       "    <tr style=\"text-align: right;\">\n",
       "      <th></th>\n",
       "      <th>value</th>\n",
       "    </tr>\n",
       "  </thead>\n",
       "  <tbody>\n",
       "    <tr>\n",
       "      <th>mean</th>\n",
       "      <td>262.428985</td>\n",
       "    </tr>\n",
       "    <tr>\n",
       "      <th>median</th>\n",
       "      <td>262.241893</td>\n",
       "    </tr>\n",
       "    <tr>\n",
       "      <th>p05</th>\n",
       "      <td>245.416260</td>\n",
       "    </tr>\n",
       "    <tr>\n",
       "      <th>p25</th>\n",
       "      <td>255.197565</td>\n",
       "    </tr>\n",
       "    <tr>\n",
       "      <th>p75</th>\n",
       "      <td>269.352239</td>\n",
       "    </tr>\n",
       "    <tr>\n",
       "      <th>p95</th>\n",
       "      <td>279.992174</td>\n",
       "    </tr>\n",
       "    <tr>\n",
       "      <th>std</th>\n",
       "      <td>10.503352</td>\n",
       "    </tr>\n",
       "  </tbody>\n",
       "</table>\n",
       "</div>"
      ]
     },
     "metadata": {},
     "output_type": "display_data"
    },
    {
     "name": "stdout",
     "output_type": "stream",
     "text": [
      "=== Valuation report ===\n"
     ]
    },
    {
     "data": {
      "text/plain": [
       "  ticker model      S0  H_days  r_annual  mu_ann_hist  sigma_ann_hist  \\\n",
       "0   SBER   gbm  282.91      20      0.12    -0.826943        0.142733   \n",
       "\n",
       "      PV_mean   PV/Spot     PV_z  P(PV>Spot)    E[Ret]  P(Loss)     ES_5pct  \\\n",
       "0  262.428985  0.927606  1.94995      0.0283 -0.063518   0.9522  243.728579   \n",
       "\n",
       "       FV_p05      FV_p50      FV_p95  \n",
       "0  247.764723  264.751366  282.671504  "
      ],
      "text/html": [
       "<div>\n",
       "<style scoped>\n",
       "    .dataframe tbody tr th:only-of-type {\n",
       "        vertical-align: middle;\n",
       "    }\n",
       "\n",
       "    .dataframe tbody tr th {\n",
       "        vertical-align: top;\n",
       "    }\n",
       "\n",
       "    .dataframe thead th {\n",
       "        text-align: right;\n",
       "    }\n",
       "</style>\n",
       "<table border=\"1\" class=\"dataframe\">\n",
       "  <thead>\n",
       "    <tr style=\"text-align: right;\">\n",
       "      <th></th>\n",
       "      <th>ticker</th>\n",
       "      <th>model</th>\n",
       "      <th>S0</th>\n",
       "      <th>H_days</th>\n",
       "      <th>r_annual</th>\n",
       "      <th>mu_ann_hist</th>\n",
       "      <th>sigma_ann_hist</th>\n",
       "      <th>PV_mean</th>\n",
       "      <th>PV/Spot</th>\n",
       "      <th>PV_z</th>\n",
       "      <th>P(PV&gt;Spot)</th>\n",
       "      <th>E[Ret]</th>\n",
       "      <th>P(Loss)</th>\n",
       "      <th>ES_5pct</th>\n",
       "      <th>FV_p05</th>\n",
       "      <th>FV_p50</th>\n",
       "      <th>FV_p95</th>\n",
       "    </tr>\n",
       "  </thead>\n",
       "  <tbody>\n",
       "    <tr>\n",
       "      <th>0</th>\n",
       "      <td>SBER</td>\n",
       "      <td>gbm</td>\n",
       "      <td>282.91</td>\n",
       "      <td>20</td>\n",
       "      <td>0.12</td>\n",
       "      <td>-0.826943</td>\n",
       "      <td>0.142733</td>\n",
       "      <td>262.428985</td>\n",
       "      <td>0.927606</td>\n",
       "      <td>1.94995</td>\n",
       "      <td>0.0283</td>\n",
       "      <td>-0.063518</td>\n",
       "      <td>0.9522</td>\n",
       "      <td>243.728579</td>\n",
       "      <td>247.764723</td>\n",
       "      <td>264.751366</td>\n",
       "      <td>282.671504</td>\n",
       "    </tr>\n",
       "  </tbody>\n",
       "</table>\n",
       "</div>"
      ]
     },
     "metadata": {},
     "output_type": "display_data"
    }
   ],
   "execution_count": 32
  },
  {
   "metadata": {},
   "cell_type": "code",
   "outputs": [],
   "execution_count": null,
   "source": "",
   "id": "68f03390b44e359d"
  },
  {
   "metadata": {},
   "cell_type": "markdown",
   "source": "",
   "id": "2c14a993351318c1"
  }
 ],
 "metadata": {
  "kernelspec": {
   "name": "python3",
   "language": "python",
   "display_name": "Python 3 (ipykernel)"
  }
 },
 "nbformat": 4,
 "nbformat_minor": 5
}
